{
 "cells": [
  {
   "cell_type": "markdown",
   "metadata": {},
   "source": [
    "## Implementation of Reptile in Tensorflow 2.0\n",
    "\n",
    "This implementation are influenced by :\n",
    "- Pytorch implementation by Adrien Lucas Effot: [Paper repro: Deep Metalearning using “MAML” and “Reptile”](https://towardsdatascience.com/paper-repro-deep-metalearning-using-maml-and-reptile-fd1df1cc81b0)\n",
    "- MAML implementation on Tensorflow 2.0 by Marianne Monteiro : [Reproduction of MAML using TensorFlow 2.0.](https://github.com/mari-linhares/tensorflow-maml)\n",
    "\n",
    "Github : https://github.com/hfahrudin\n",
    "Facebook : https://www.facebook.com/hasby.fahrudin\n",
    "\n",
    "### Reptile : On First-Order Meta-Learning Algorithms\n",
    "\n",
    "https://arxiv.org/abs/1803.02999"
   ]
  },
  {
   "cell_type": "code",
   "execution_count": 1,
   "metadata": {},
   "outputs": [
    {
     "name": "stdout",
     "output_type": "stream",
     "text": [
      "Python version:  3.6.10 |Anaconda, Inc.| (default, Jan  7 2020, 15:18:16) [MSC v.1916 64 bit (AMD64)]\n",
      "TensorFlow version:  2.0.0\n",
      "GPU found at: /device:GPU:0\n"
     ]
    }
   ],
   "source": [
    "import tensorflow as tf\n",
    "import tensorflow.keras as keras\n",
    "import tensorflow.keras.backend as keras_backend\n",
    "\n",
    "\n",
    "import random\n",
    "import sys\n",
    "import time\n",
    "\n",
    "import numpy as np\n",
    "import matplotlib.pyplot as plt\n",
    "print('Python version: ', sys.version)\n",
    "print('TensorFlow version: ', tf.__version__)\n",
    "tf.keras.backend.set_floatx('float64')\n",
    "device_name = tf.test.gpu_device_name()\n",
    "if device_name != '/device:GPU:0':\n",
    "  raise SystemError('GPU device not found')\n",
    "print('GPU found at: {}'.format(device_name))"
   ]
  },
  {
   "cell_type": "code",
   "execution_count": 2,
   "metadata": {},
   "outputs": [
    {
     "data": {
      "image/png": "[encoded data removed]",
      "text/plain": [
       "<Figure size 432x288 with 1 Axes>"
      ]
     },
     "metadata": {
      "needs_background": "light"
     },
     "output_type": "display_data"
    }
   ],
   "source": [
    "class SinusoidGenerator() :\n",
    "\n",
    "    def __init__ (self, K=None, amplitude = None, phase = None):\n",
    "        self.K = K\n",
    "        self.amplitude = amplitude*2 if amplitude else np.random.uniform(0.1, 2.0)\n",
    "        self.phase = phase*np.pi if phase else np.random.uniform(0,  0.2*np.pi)\n",
    "        self.x = self._sample_x()\n",
    "        \n",
    "    def _sample_x(self):\n",
    "        return np.random.uniform(-5,5, self.K)\n",
    "    \n",
    "    def f(self, x):\n",
    "        return self.amplitude * np.sin(x - self.phase)\n",
    "    \n",
    "    def batch(self, x=None, force_new = False):\n",
    "        if x is None:\n",
    "            if force_new:\n",
    "                x = self._sample_x()\n",
    "            else:\n",
    "                x = self.x\n",
    "        y = self.f(x)\n",
    "        return x[:, None], y[:, None]\n",
    "    \n",
    "    def equally_spaced_samples(self, K= None):\n",
    "        if K is None:\n",
    "            K = self.K\n",
    "        return self.batch (x = np.linspace(-5, 5, K))\n",
    "    \n",
    "    def random_spaced_samples(self, K= None):\n",
    "        if K is None:\n",
    "            K = self.K\n",
    "        return self.batch(x = np.random.uniform(-5, 5, K))\n",
    "\n",
    "def plot (data, *args, **kwargs):\n",
    "    x,y = data\n",
    "    return plt.plot(x, y, *args, **kwargs)\n",
    "\n",
    "plt.figure()\n",
    "for _ in range(3):\n",
    "    plt.title('Sinusoid example')\n",
    "    plot(SinusoidGenerator(K=50).equally_spaced_samples())\n",
    "plt.show()\n"
   ]
  },
  {
   "cell_type": "code",
   "execution_count": 3,
   "metadata": {},
   "outputs": [],
   "source": [
    "def generate_dataset (K, train_size=1000, test_size=300):\n",
    "    def _generate_dataset_train(size):\n",
    "        return [SinusoidGenerator(K=K) for _ in range(size)]\n",
    "    def _generate_dataset_test(size):\n",
    "        return [SinusoidGenerator(K=K*2) for _ in range(size)]\n",
    "    return _generate_dataset_train(train_size), _generate_dataset_test(test_size)\n"
   ]
  },
  {
   "cell_type": "code",
   "execution_count": 4,
   "metadata": {},
   "outputs": [],
   "source": [
    "# t data\n",
    "train_ds, _ = generate_dataset(K=100)"
   ]
  },
  {
   "cell_type": "code",
   "execution_count": 5,
   "metadata": {},
   "outputs": [],
   "source": [
    "class SineModel(keras.Model):\n",
    "    def __init__(self):\n",
    "        super().__init__()\n",
    "        self.hidden1 = keras.layers.Dense(40, input_shape=(1,))\n",
    "        self.hidden2 = keras.layers.Dense(40)\n",
    "        self.out = keras.layers.Dense(1)\n",
    "        \n",
    "    def forward(self, x):\n",
    "        x = keras.activations.relu(self.hidden1(x))\n",
    "        x = keras.activations.relu(self.hidden2(x))\n",
    "        x = self.out(x)\n",
    "        return x"
   ]
  },
  {
   "cell_type": "code",
   "execution_count": 12,
   "metadata": {},
   "outputs": [],
   "source": [
    "def loss_function(pred_y, y):\n",
    "    return keras_backend.mean(keras.losses.mean_squared_error(y, pred_y))\n",
    "\n",
    "def np_to_tensor(list_of_numpy_objs):\n",
    "    return (tf.convert_to_tensor(obj) for obj in list_of_numpy_objs)\n",
    "    \n",
    "\n",
    "def compute_loss(model, x, y, loss_fn=loss_function):\n",
    "    logits = model.forward(x)\n",
    "    mse = loss_fn(y, logits)\n",
    "    return mse, logits\n",
    "   \n",
    "def train_batch(x, y, model, optimizer):\n",
    "    tensor_x, tensor_y = np_to_tensor((x, y))\n",
    "    with tf.GradientTape() as tape:\n",
    "        loss, _ = compute_loss(model, x, y)\n",
    "    gradients = tape.gradient(loss, model.trainable_variables)\n",
    "    optimizer.apply_gradients(zip(gradients, model.trainable_variables))\n",
    "    return loss"
   ]
  },
  {
   "cell_type": "code",
   "execution_count": 7,
   "metadata": {},
   "outputs": [],
   "source": [
    "def copy_model(model, x=None):\n",
    "    '''Copy model weights to a new model.\n",
    "    \n",
    "    Args:\n",
    "        model: model to be copied.\n",
    "        x: An input example. This is used to run\n",
    "            a forward pass in order to add the weights of the graph\n",
    "            as variables.\n",
    "    Returns:\n",
    "        A copy of the model.\n",
    "    '''\n",
    "    \n",
    "    copied_model = SineModel()\n",
    "    \n",
    "    # If we don't run this step the weights are not \"initialized\"\n",
    "    # and the gradients will not be computed.\n",
    "    copied_model.forward(tf.convert_to_tensor(x))\n",
    "    \n",
    "    copied_model.set_weights(model.get_weights())\n",
    "    return copied_model\n"
   ]
  },
  {
   "cell_type": "code",
   "execution_count": 8,
   "metadata": {},
   "outputs": [],
   "source": [
    "def train_reptile( epochs, dataset, mdl=None, lr_inner=0.001, lr_outer=0.01, batch_size=1, log_steps=100, k=3):\n",
    "    if mdl is not None :\n",
    "        model = mdl\n",
    "    else:\n",
    "        model = SineModel()\n",
    "    inner_optimizer = keras.optimizers.SGD(learning_rate=lr_inner)\n",
    "    outer_optimizer = keras.optimizers.Adam(learning_rate=lr_outer)\n",
    "    losses = []\n",
    "    \n",
    "    for epoch in range(epochs):\n",
    "        if log_steps is not None:\n",
    "            print(\"====== Epoch : \" +str(epoch)+ \" ====== \")\n",
    "        total_loss = 0\n",
    "        \n",
    "        start = time.time()\n",
    "        # Step 3 and 4\n",
    "        for i, t in enumerate(random.sample(dataset, len(dataset))):\n",
    "            x, y = np_to_tensor(t.batch())\n",
    "            model.forward(x) \n",
    "            \n",
    "            old_weights = model.get_weights()\n",
    "                \n",
    "            model_copy = copy_model(model, x)\n",
    "            for _ in range(k):\n",
    "                loss = train_batch(x, y, model_copy, inner_optimizer)\n",
    "            \n",
    "            after_weights = model_copy.get_weights()\n",
    "\n",
    "            step_size = lr_inner * (1 - epoch / epochs)\n",
    "            new_weights = [ old_weights[i] + ((old_weights[i] - after_weights[i]) * step_size)\n",
    "                           for i in range(len(model.weights))]\n",
    "            \n",
    "            model.set_weights(new_weights)\n",
    "            \n",
    "            if (i+1) % batch_size == 0:\n",
    "                test_loss = train_batch(x, y, model, outer_optimizer)\n",
    "            else:\n",
    "                test_loss, logits = compute_loss(model, x, y)\n",
    "            \n",
    "            # Logs\n",
    "            total_loss += test_loss\n",
    "            loss = total_loss / (i+1.0)\n",
    "            \n",
    "            if log_steps is not None:\n",
    "                if i % log_steps == 0 and i > 0:\n",
    "                    print('Step {}: loss = {}, Time to run {} steps = {}'.format(i, loss, log_steps, time.time() - start))\n",
    "                    start = time.time()\n",
    "                    \n",
    "        losses.append(loss)\n",
    "    plt.plot(losses)\n",
    "    plt.xlabel(\"Adaptation steps\")\n",
    "    plt.title(\"Mean Absolute Error Performance (REPTILE)\")\n",
    "    plt.ylabel(\"Loss\")\n",
    "    plt.show()\n",
    "    return model, np.array(losses)"
   ]
  },
  {
   "cell_type": "code",
   "execution_count": 13,
   "metadata": {},
   "outputs": [
    {
     "name": "stdout",
     "output_type": "stream",
     "text": [
      "====== Epoch : 0 ====== \n",
      "Step 100: loss = 0.29673193121957586, Time to run 100 steps = 4.8799521923065186\n",
      "Step 200: loss = 0.2503874878132261, Time to run 100 steps = 4.926827669143677\n",
      "Step 300: loss = 0.24099504028604185, Time to run 100 steps = 5.0245726108551025\n",
      "Step 400: loss = 0.23259018045114338, Time to run 100 steps = 5.145244359970093\n",
      "Step 500: loss = 0.22196767608491372, Time to run 100 steps = 5.121307849884033\n",
      "Step 600: loss = 0.2155622234425644, Time to run 100 steps = 5.240987539291382\n",
      "Step 700: loss = 0.21874500099363076, Time to run 100 steps = 5.241985082626343\n",
      "Step 800: loss = 0.2124818632733499, Time to run 100 steps = 5.14723801612854\n",
      "Step 900: loss = 0.21394032596716056, Time to run 100 steps = 4.885936737060547\n",
      "====== Epoch : 1 ====== \n",
      "Step 100: loss = 0.1885225956654919, Time to run 100 steps = 5.0544960498809814\n",
      "Step 200: loss = 0.20019989387108822, Time to run 100 steps = 5.354673624038696\n",
      "Step 300: loss = 0.19662960810912983, Time to run 100 steps = 5.063462018966675\n",
      "Step 400: loss = 0.19395823201384102, Time to run 100 steps = 4.83607029914856\n",
      "Step 500: loss = 0.1905735792165104, Time to run 100 steps = 5.462395668029785\n",
      "Step 600: loss = 0.18769999404255291, Time to run 100 steps = 5.233008861541748\n",
      "Step 700: loss = 0.18586704656175532, Time to run 100 steps = 4.990657091140747\n",
      "Step 800: loss = 0.18782815811393425, Time to run 100 steps = 4.954753160476685\n",
      "Step 900: loss = 0.18930342990381888, Time to run 100 steps = 5.109339475631714\n",
      "====== Epoch : 2 ====== \n",
      "Step 100: loss = 0.16918844018435852, Time to run 100 steps = 5.4484333992004395\n",
      "Step 200: loss = 0.1801532573796904, Time to run 100 steps = 4.8490355014801025\n",
      "Step 300: loss = 0.18785865277787714, Time to run 100 steps = 5.030550718307495\n",
      "Step 400: loss = 0.18580377831132278, Time to run 100 steps = 5.058475494384766\n",
      "Step 500: loss = 0.18475073315795432, Time to run 100 steps = 5.213062524795532\n",
      "Step 600: loss = 0.18235502214107083, Time to run 100 steps = 4.799168348312378\n",
      "Step 700: loss = 0.18650322393224372, Time to run 100 steps = 4.907878160476685\n",
      "Step 800: loss = 0.18688511179878237, Time to run 100 steps = 4.88793158531189\n",
      "Step 900: loss = 0.1863912229860875, Time to run 100 steps = 4.823259115219116\n",
      "====== Epoch : 3 ====== \n",
      "Step 100: loss = 0.18361790248312748, Time to run 100 steps = 4.8171210289001465\n",
      "Step 200: loss = 0.17577080424263375, Time to run 100 steps = 4.990681171417236\n",
      "Step 300: loss = 0.17848913386689697, Time to run 100 steps = 5.287862300872803\n",
      "Step 400: loss = 0.17494385514363414, Time to run 100 steps = 5.076453685760498\n",
      "Step 500: loss = 0.18138858306346156, Time to run 100 steps = 4.908849000930786\n",
      "Step 600: loss = 0.17779117183183893, Time to run 100 steps = 5.277892827987671\n",
      "Step 700: loss = 0.18183527512650713, Time to run 100 steps = 5.211087226867676\n",
      "Step 800: loss = 0.183711838034567, Time to run 100 steps = 4.979690074920654\n",
      "Step 900: loss = 0.18657448808195648, Time to run 100 steps = 5.298829793930054\n",
      "====== Epoch : 4 ====== \n",
      "Step 100: loss = 0.19324992254420292, Time to run 100 steps = 5.2878618240356445\n",
      "Step 200: loss = 0.19714808125464975, Time to run 100 steps = 5.242983341217041\n",
      "Step 300: loss = 0.185448093874114, Time to run 100 steps = 5.088423728942871\n",
      "Step 400: loss = 0.18535509130689456, Time to run 100 steps = 5.133275032043457\n",
      "Step 500: loss = 0.18424806555170314, Time to run 100 steps = 4.948747873306274\n",
      "Step 600: loss = 0.18165399527738846, Time to run 100 steps = 5.443704605102539\n",
      "Step 700: loss = 0.18079706559010156, Time to run 100 steps = 5.326758146286011\n",
      "Step 800: loss = 0.18218351076149655, Time to run 100 steps = 5.048534154891968\n",
      "Step 900: loss = 0.18249380880925217, Time to run 100 steps = 5.06145977973938\n"
     ]
    },
    {
     "data": {
      "image/png": "[encoded data removed]",
      "text/plain": [
       "<Figure size 432x288 with 1 Axes>"
      ]
     },
     "metadata": {
      "needs_background": "light"
     },
     "output_type": "display_data"
    },
    {
     "data": {
      "text/plain": [
       "(<__main__.SineModel at 0x1b7f5788208>,\n",
       " array([0.21271617, 0.18888735, 0.18634281, 0.18605969, 0.18291432]))"
      ]
     },
     "execution_count": 13,
     "metadata": {},
     "output_type": "execute_result"
    }
   ],
   "source": [
    "train_reptile(5, train_ds)"
   ]
  },
  {
   "cell_type": "code",
   "execution_count": null,
   "metadata": {},
   "outputs": [],
   "source": []
  }
 ],
 "metadata": {
  "kernelspec": {
   "display_name": "Python 3",
   "language": "python",
   "name": "python3"
  },
  "language_info": {
   "codemirror_mode": {
    "name": "ipython",
    "version": 3
   },
   "file_extension": ".py",
   "mimetype": "text/x-python",
   "name": "python",
   "nbconvert_exporter": "python",
   "pygments_lexer": "ipython3",
   "version": "3.6.10"
  }
 },
 "nbformat": 4,
 "nbformat_minor": 4
}
